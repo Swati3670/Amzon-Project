{
  "cells": [
    {
      "cell_type": "code",
      "execution_count": null,
      "id": "a86905c2",
      "metadata": {
        "id": "a86905c2"
      },
      "outputs": [],
      "source": [
        "import requests\n",
        "from bs4 import BeautifulSoup"
      ]
    },
    {
      "cell_type": "code",
      "execution_count": null,
      "id": "ef9cdf09",
      "metadata": {
        "id": "ef9cdf09",
        "colab": {
          "base_uri": "https://localhost:8080/"
        },
        "outputId": "bcb87988-5aca-411f-f377-2a28e40c90ac"
      },
      "outputs": [
        {
          "output_type": "stream",
          "name": "stdout",
          "text": [
            "<Response [200]>\n"
          ]
        }
      ],
      "source": [
        "url='https://www.amazon.in/s?k=washing+machine&crid=I4QRQFCI5BV6&qid=1666107367&sprefix=washing+%2Caps%2C455&ref=sr_pg_1'\n",
        "req= requests.get(url)\n",
        "print(req)\n",
        "data = BeautifulSoup(req.content,'html.parser')"
      ]
    },
    {
      "cell_type": "code",
      "source": [
        "url_list = []\n",
        "for i in range(1,21):\n",
        "    url_list.append('https://www.amazon.in/s?k=washing+machine&crid=I4QRQFCI5BV6&qid=1666107367&sprefix=washing+%2Caps%2C455&ref=sr_pg_' + str(i))\n",
        "url_list"
      ],
      "metadata": {
        "colab": {
          "base_uri": "https://localhost:8080/"
        },
        "id": "EtzF_bPtY8V2",
        "outputId": "fadd2a9d-c856-40a8-c1ff-f0654fe338b5"
      },
      "id": "EtzF_bPtY8V2",
      "execution_count": null,
      "outputs": [
        {
          "output_type": "execute_result",
          "data": {
            "text/plain": [
              "['https://www.amazon.in/s?k=washing+machine&crid=I4QRQFCI5BV6&qid=1666107367&sprefix=washing+%2Caps%2C455&ref=sr_pg_1',\n",
              " 'https://www.amazon.in/s?k=washing+machine&crid=I4QRQFCI5BV6&qid=1666107367&sprefix=washing+%2Caps%2C455&ref=sr_pg_2',\n",
              " 'https://www.amazon.in/s?k=washing+machine&crid=I4QRQFCI5BV6&qid=1666107367&sprefix=washing+%2Caps%2C455&ref=sr_pg_3',\n",
              " 'https://www.amazon.in/s?k=washing+machine&crid=I4QRQFCI5BV6&qid=1666107367&sprefix=washing+%2Caps%2C455&ref=sr_pg_4',\n",
              " 'https://www.amazon.in/s?k=washing+machine&crid=I4QRQFCI5BV6&qid=1666107367&sprefix=washing+%2Caps%2C455&ref=sr_pg_5',\n",
              " 'https://www.amazon.in/s?k=washing+machine&crid=I4QRQFCI5BV6&qid=1666107367&sprefix=washing+%2Caps%2C455&ref=sr_pg_6',\n",
              " 'https://www.amazon.in/s?k=washing+machine&crid=I4QRQFCI5BV6&qid=1666107367&sprefix=washing+%2Caps%2C455&ref=sr_pg_7',\n",
              " 'https://www.amazon.in/s?k=washing+machine&crid=I4QRQFCI5BV6&qid=1666107367&sprefix=washing+%2Caps%2C455&ref=sr_pg_8',\n",
              " 'https://www.amazon.in/s?k=washing+machine&crid=I4QRQFCI5BV6&qid=1666107367&sprefix=washing+%2Caps%2C455&ref=sr_pg_9',\n",
              " 'https://www.amazon.in/s?k=washing+machine&crid=I4QRQFCI5BV6&qid=1666107367&sprefix=washing+%2Caps%2C455&ref=sr_pg_10',\n",
              " 'https://www.amazon.in/s?k=washing+machine&crid=I4QRQFCI5BV6&qid=1666107367&sprefix=washing+%2Caps%2C455&ref=sr_pg_11',\n",
              " 'https://www.amazon.in/s?k=washing+machine&crid=I4QRQFCI5BV6&qid=1666107367&sprefix=washing+%2Caps%2C455&ref=sr_pg_12',\n",
              " 'https://www.amazon.in/s?k=washing+machine&crid=I4QRQFCI5BV6&qid=1666107367&sprefix=washing+%2Caps%2C455&ref=sr_pg_13',\n",
              " 'https://www.amazon.in/s?k=washing+machine&crid=I4QRQFCI5BV6&qid=1666107367&sprefix=washing+%2Caps%2C455&ref=sr_pg_14',\n",
              " 'https://www.amazon.in/s?k=washing+machine&crid=I4QRQFCI5BV6&qid=1666107367&sprefix=washing+%2Caps%2C455&ref=sr_pg_15',\n",
              " 'https://www.amazon.in/s?k=washing+machine&crid=I4QRQFCI5BV6&qid=1666107367&sprefix=washing+%2Caps%2C455&ref=sr_pg_16',\n",
              " 'https://www.amazon.in/s?k=washing+machine&crid=I4QRQFCI5BV6&qid=1666107367&sprefix=washing+%2Caps%2C455&ref=sr_pg_17',\n",
              " 'https://www.amazon.in/s?k=washing+machine&crid=I4QRQFCI5BV6&qid=1666107367&sprefix=washing+%2Caps%2C455&ref=sr_pg_18',\n",
              " 'https://www.amazon.in/s?k=washing+machine&crid=I4QRQFCI5BV6&qid=1666107367&sprefix=washing+%2Caps%2C455&ref=sr_pg_19',\n",
              " 'https://www.amazon.in/s?k=washing+machine&crid=I4QRQFCI5BV6&qid=1666107367&sprefix=washing+%2Caps%2C455&ref=sr_pg_20']"
            ]
          },
          "metadata": {},
          "execution_count": 3
        }
      ]
    },
    {
      "cell_type": "code",
      "execution_count": null,
      "id": "db582d62",
      "metadata": {
        "id": "db582d62"
      },
      "outputs": [],
      "source": [
        "# name\n",
        "p_name=data.find_all('span' , class_ ='a-size-medium a-color-base a-text-normal')"
      ]
    },
    {
      "cell_type": "code",
      "execution_count": null,
      "id": "6bca5268",
      "metadata": {
        "id": "6bca5268"
      },
      "outputs": [],
      "source": [
        "# rating\n",
        "p_rating=data.findAll('span',{'class':'a-icon-alt'})"
      ]
    },
    {
      "cell_type": "code",
      "execution_count": null,
      "id": "8076ba12",
      "metadata": {
        "colab": {
          "base_uri": "https://localhost:8080/"
        },
        "id": "8076ba12",
        "outputId": "500eb2f5-5406-445d-9754-0f0c9f27762f"
      },
      "outputs": [
        {
          "output_type": "execute_result",
          "data": {
            "text/plain": [
              "[<span class=\"a-price\" data-a-color=\"base\" data-a-size=\"xl\"><span class=\"a-offscreen\">₹11,490</span><span aria-hidden=\"true\"><span class=\"a-price-symbol\">₹</span><span class=\"a-price-whole\">11,490</span></span></span>,\n",
              " <span class=\"a-price a-text-price\" data-a-color=\"secondary\" data-a-size=\"b\" data-a-strike=\"true\"><span class=\"a-offscreen\">₹16,090</span><span aria-hidden=\"true\">₹16,090</span></span>,\n",
              " <span class=\"a-price\" data-a-color=\"base\" data-a-size=\"xl\"><span class=\"a-offscreen\">₹16,690</span><span aria-hidden=\"true\"><span class=\"a-price-symbol\">₹</span><span class=\"a-price-whole\">16,690</span></span></span>,\n",
              " <span class=\"a-price a-text-price\" data-a-color=\"secondary\" data-a-size=\"b\" data-a-strike=\"true\"><span class=\"a-offscreen\">₹20,300</span><span aria-hidden=\"true\">₹20,300</span></span>,\n",
              " <span class=\"a-price\" data-a-color=\"base\" data-a-size=\"xl\"><span class=\"a-offscreen\">₹24,990</span><span aria-hidden=\"true\"><span class=\"a-price-symbol\">₹</span><span class=\"a-price-whole\">24,990</span></span></span>,\n",
              " <span class=\"a-price a-text-price\" data-a-color=\"secondary\" data-a-size=\"b\" data-a-strike=\"true\"><span class=\"a-offscreen\">₹28,500</span><span aria-hidden=\"true\">₹28,500</span></span>,\n",
              " <span class=\"a-price\" data-a-color=\"base\" data-a-size=\"xl\"><span class=\"a-offscreen\">₹17,490</span><span aria-hidden=\"true\"><span class=\"a-price-symbol\">₹</span><span class=\"a-price-whole\">17,490</span></span></span>,\n",
              " <span class=\"a-price a-text-price\" data-a-color=\"secondary\" data-a-size=\"b\" data-a-strike=\"true\"><span class=\"a-offscreen\">₹24,990</span><span aria-hidden=\"true\">₹24,990</span></span>,\n",
              " <span class=\"a-price\" data-a-color=\"base\" data-a-size=\"xl\"><span class=\"a-offscreen\">₹16,490</span><span aria-hidden=\"true\"><span class=\"a-price-symbol\">₹</span><span class=\"a-price-whole\">16,490</span></span></span>,\n",
              " <span class=\"a-price a-text-price\" data-a-color=\"secondary\" data-a-size=\"b\" data-a-strike=\"true\"><span class=\"a-offscreen\">₹24,990</span><span aria-hidden=\"true\">₹24,990</span></span>,\n",
              " <span class=\"a-price\" data-a-color=\"base\" data-a-size=\"xl\"><span class=\"a-offscreen\">₹12,190</span><span aria-hidden=\"true\"><span class=\"a-price-symbol\">₹</span><span class=\"a-price-whole\">12,190</span></span></span>,\n",
              " <span class=\"a-price a-text-price\" data-a-color=\"secondary\" data-a-size=\"b\" data-a-strike=\"true\"><span class=\"a-offscreen\">₹19,410</span><span aria-hidden=\"true\">₹19,410</span></span>,\n",
              " <span class=\"a-price\" data-a-color=\"base\" data-a-size=\"xl\"><span class=\"a-offscreen\">₹18,470</span><span aria-hidden=\"true\"><span class=\"a-price-symbol\">₹</span><span class=\"a-price-whole\">18,470</span></span></span>,\n",
              " <span class=\"a-price a-text-price\" data-a-color=\"secondary\" data-a-size=\"b\" data-a-strike=\"true\"><span class=\"a-offscreen\">₹25,990</span><span aria-hidden=\"true\">₹25,990</span></span>,\n",
              " <span class=\"a-price\" data-a-color=\"base\" data-a-size=\"xl\"><span class=\"a-offscreen\">₹12,490</span><span aria-hidden=\"true\"><span class=\"a-price-symbol\">₹</span><span class=\"a-price-whole\">12,490</span></span></span>,\n",
              " <span class=\"a-price a-text-price\" data-a-color=\"secondary\" data-a-size=\"b\" data-a-strike=\"true\"><span class=\"a-offscreen\">₹16,490</span><span aria-hidden=\"true\">₹16,490</span></span>,\n",
              " <span class=\"a-price\" data-a-color=\"base\" data-a-size=\"xl\"><span class=\"a-offscreen\">₹20,990</span><span aria-hidden=\"true\"><span class=\"a-price-symbol\">₹</span><span class=\"a-price-whole\">20,990</span></span></span>,\n",
              " <span class=\"a-price a-text-price\" data-a-color=\"secondary\" data-a-size=\"b\" data-a-strike=\"true\"><span class=\"a-offscreen\">₹29,990</span><span aria-hidden=\"true\">₹29,990</span></span>,\n",
              " <span class=\"a-price\" data-a-color=\"base\" data-a-size=\"xl\"><span class=\"a-offscreen\">₹24,990</span><span aria-hidden=\"true\"><span class=\"a-price-symbol\">₹</span><span class=\"a-price-whole\">24,990</span></span></span>,\n",
              " <span class=\"a-price a-text-price\" data-a-color=\"secondary\" data-a-size=\"b\" data-a-strike=\"true\"><span class=\"a-offscreen\">₹28,500</span><span aria-hidden=\"true\">₹28,500</span></span>,\n",
              " <span class=\"a-price\" data-a-color=\"base\" data-a-size=\"xl\"><span class=\"a-offscreen\">₹13,290</span><span aria-hidden=\"true\"><span class=\"a-price-symbol\">₹</span><span class=\"a-price-whole\">13,290</span></span></span>,\n",
              " <span class=\"a-price a-text-price\" data-a-color=\"secondary\" data-a-size=\"b\" data-a-strike=\"true\"><span class=\"a-offscreen\">₹16,590</span><span aria-hidden=\"true\">₹16,590</span></span>,\n",
              " <span class=\"a-price\" data-a-color=\"base\" data-a-size=\"xl\"><span class=\"a-offscreen\">₹15,990</span><span aria-hidden=\"true\"><span class=\"a-price-symbol\">₹</span><span class=\"a-price-whole\">15,990</span></span></span>,\n",
              " <span class=\"a-price a-text-price\" data-a-color=\"secondary\" data-a-size=\"b\" data-a-strike=\"true\"><span class=\"a-offscreen\">₹18,990</span><span aria-hidden=\"true\">₹18,990</span></span>,\n",
              " <span class=\"a-price\" data-a-color=\"base\" data-a-size=\"xl\"><span class=\"a-offscreen\">₹20,690</span><span aria-hidden=\"true\"><span class=\"a-price-symbol\">₹</span><span class=\"a-price-whole\">20,690</span></span></span>,\n",
              " <span class=\"a-price a-text-price\" data-a-color=\"secondary\" data-a-size=\"b\" data-a-strike=\"true\"><span class=\"a-offscreen\">₹28,000</span><span aria-hidden=\"true\">₹28,000</span></span>,\n",
              " <span class=\"a-price\" data-a-color=\"base\" data-a-size=\"xl\"><span class=\"a-offscreen\">₹21,600</span><span aria-hidden=\"true\"><span class=\"a-price-symbol\">₹</span><span class=\"a-price-whole\">21,600</span></span></span>,\n",
              " <span class=\"a-price a-text-price\" data-a-color=\"secondary\" data-a-size=\"b\" data-a-strike=\"true\"><span class=\"a-offscreen\">₹31,990</span><span aria-hidden=\"true\">₹31,990</span></span>,\n",
              " <span class=\"a-price\" data-a-color=\"base\" data-a-size=\"xl\"><span class=\"a-offscreen\">₹20,310</span><span aria-hidden=\"true\"><span class=\"a-price-symbol\">₹</span><span class=\"a-price-whole\">20,310</span></span></span>,\n",
              " <span class=\"a-price a-text-price\" data-a-color=\"secondary\" data-a-size=\"b\" data-a-strike=\"true\"><span class=\"a-offscreen\">₹22,300</span><span aria-hidden=\"true\">₹22,300</span></span>]"
            ]
          },
          "metadata": {},
          "execution_count": 6
        }
      ],
      "source": [
        "data.findAll('span',{'class':'a-price'})"
      ]
    },
    {
      "cell_type": "code",
      "execution_count": null,
      "id": "f18e123d",
      "metadata": {
        "id": "f18e123d"
      },
      "outputs": [],
      "source": [
        "#  price\n",
        "p_price=data.findAll('span' ,class_ ='a-offscreen')"
      ]
    },
    {
      "cell_type": "code",
      "execution_count": null,
      "id": "318a1614",
      "metadata": {
        "id": "318a1614"
      },
      "outputs": [],
      "source": [
        "product_name = []\n",
        "product_rating = []\n",
        "product_price = []"
      ]
    },
    {
      "cell_type": "code",
      "execution_count": null,
      "id": "ee4504cd",
      "metadata": {
        "id": "ee4504cd"
      },
      "outputs": [],
      "source": [
        "product_name = []\n",
        "product_rating = []\n",
        "product_price = []\n",
        "for url in url_list:\n",
        "    url=url\n",
        "    req = requests.get(url)\n",
        "    data = BeautifulSoup(req.content,'html.parser')\n",
        "    p_name=data.find_all('span' , class_ ='a-size-medium a-color-base a-text-normal')\n",
        "    p_rating=data.findAll('span',{'class':'a-icon-alt'})\n",
        "    p_price=data.findAll('span' ,class_ ='a-offscreen')\n",
        "    for i in range(1,16):\n",
        "      try:\n",
        "          product_name.append(p_name[i].text.strip())\n",
        "          product_rating.append(p_rating[i].text)\n",
        "          product_price.append(p_price[i].text)\n",
        "        \n",
        "      except:\n",
        "         product_name.append(None)\n",
        "         product_rating.append(None)\n",
        "         product_price.append(None)"
      ]
    },
    {
      "cell_type": "code",
      "execution_count": null,
      "id": "63d11dcf",
      "metadata": {
        "colab": {
          "base_uri": "https://localhost:8080/"
        },
        "id": "63d11dcf",
        "outputId": "74e47d8a-c3e4-4b89-d782-ca4a7a88111f"
      },
      "outputs": [
        {
          "output_type": "execute_result",
          "data": {
            "text/plain": [
              "(300, 300, 300)"
            ]
          },
          "metadata": {},
          "execution_count": 10
        }
      ],
      "source": [
        "len(product_name),len(product_rating),len(product_price)"
      ]
    },
    {
      "cell_type": "code",
      "execution_count": null,
      "id": "8c209cd4",
      "metadata": {
        "colab": {
          "base_uri": "https://localhost:8080/",
          "height": 424
        },
        "id": "8c209cd4",
        "outputId": "6159205a-2903-4ae0-bf55-c6b12db1e8e8"
      },
      "outputs": [
        {
          "output_type": "execute_result",
          "data": {
            "text/plain": [
              "                                               product    price  \\\n",
              "0    Voltas Beko 7Kg Semi Automatic Top Loading Was...  ₹16,090   \n",
              "1    Whirlpool 7.5 Kg 5 Star Royal Plus Fully-Autom...  ₹16,690   \n",
              "2    LG 7 kg 5 Star Inverter Fully-Automatic Top Lo...  ₹20,300   \n",
              "3    LG 6.5 Kg 5 Star Smart Inverter Fully-Automati...  ₹24,990   \n",
              "4    Godrej 6.2 Kg Fully-Automatic Top Loading Wash...  ₹28,500   \n",
              "..                                                 ...      ...   \n",
              "295                                               None     None   \n",
              "296                                               None     None   \n",
              "297                                               None     None   \n",
              "298                                               None     None   \n",
              "299                                               None     None   \n",
              "\n",
              "                 rating  \n",
              "0    3.9 out of 5 stars  \n",
              "1    4.3 out of 5 stars  \n",
              "2    4.2 out of 5 stars  \n",
              "3    4.2 out of 5 stars  \n",
              "4    4.0 out of 5 stars  \n",
              "..                  ...  \n",
              "295                None  \n",
              "296                None  \n",
              "297                None  \n",
              "298                None  \n",
              "299                None  \n",
              "\n",
              "[300 rows x 3 columns]"
            ],
            "text/html": [
              "\n",
              "  <div id=\"df-75b40a3f-d8df-4332-bf72-f92ea7ad29c3\">\n",
              "    <div class=\"colab-df-container\">\n",
              "      <div>\n",
              "<style scoped>\n",
              "    .dataframe tbody tr th:only-of-type {\n",
              "        vertical-align: middle;\n",
              "    }\n",
              "\n",
              "    .dataframe tbody tr th {\n",
              "        vertical-align: top;\n",
              "    }\n",
              "\n",
              "    .dataframe thead th {\n",
              "        text-align: right;\n",
              "    }\n",
              "</style>\n",
              "<table border=\"1\" class=\"dataframe\">\n",
              "  <thead>\n",
              "    <tr style=\"text-align: right;\">\n",
              "      <th></th>\n",
              "      <th>product</th>\n",
              "      <th>price</th>\n",
              "      <th>rating</th>\n",
              "    </tr>\n",
              "  </thead>\n",
              "  <tbody>\n",
              "    <tr>\n",
              "      <th>0</th>\n",
              "      <td>Voltas Beko 7Kg Semi Automatic Top Loading Was...</td>\n",
              "      <td>₹16,090</td>\n",
              "      <td>3.9 out of 5 stars</td>\n",
              "    </tr>\n",
              "    <tr>\n",
              "      <th>1</th>\n",
              "      <td>Whirlpool 7.5 Kg 5 Star Royal Plus Fully-Autom...</td>\n",
              "      <td>₹16,690</td>\n",
              "      <td>4.3 out of 5 stars</td>\n",
              "    </tr>\n",
              "    <tr>\n",
              "      <th>2</th>\n",
              "      <td>LG 7 kg 5 Star Inverter Fully-Automatic Top Lo...</td>\n",
              "      <td>₹20,300</td>\n",
              "      <td>4.2 out of 5 stars</td>\n",
              "    </tr>\n",
              "    <tr>\n",
              "      <th>3</th>\n",
              "      <td>LG 6.5 Kg 5 Star Smart Inverter Fully-Automati...</td>\n",
              "      <td>₹24,990</td>\n",
              "      <td>4.2 out of 5 stars</td>\n",
              "    </tr>\n",
              "    <tr>\n",
              "      <th>4</th>\n",
              "      <td>Godrej 6.2 Kg Fully-Automatic Top Loading Wash...</td>\n",
              "      <td>₹28,500</td>\n",
              "      <td>4.0 out of 5 stars</td>\n",
              "    </tr>\n",
              "    <tr>\n",
              "      <th>...</th>\n",
              "      <td>...</td>\n",
              "      <td>...</td>\n",
              "      <td>...</td>\n",
              "    </tr>\n",
              "    <tr>\n",
              "      <th>295</th>\n",
              "      <td>None</td>\n",
              "      <td>None</td>\n",
              "      <td>None</td>\n",
              "    </tr>\n",
              "    <tr>\n",
              "      <th>296</th>\n",
              "      <td>None</td>\n",
              "      <td>None</td>\n",
              "      <td>None</td>\n",
              "    </tr>\n",
              "    <tr>\n",
              "      <th>297</th>\n",
              "      <td>None</td>\n",
              "      <td>None</td>\n",
              "      <td>None</td>\n",
              "    </tr>\n",
              "    <tr>\n",
              "      <th>298</th>\n",
              "      <td>None</td>\n",
              "      <td>None</td>\n",
              "      <td>None</td>\n",
              "    </tr>\n",
              "    <tr>\n",
              "      <th>299</th>\n",
              "      <td>None</td>\n",
              "      <td>None</td>\n",
              "      <td>None</td>\n",
              "    </tr>\n",
              "  </tbody>\n",
              "</table>\n",
              "<p>300 rows × 3 columns</p>\n",
              "</div>\n",
              "      <button class=\"colab-df-convert\" onclick=\"convertToInteractive('df-75b40a3f-d8df-4332-bf72-f92ea7ad29c3')\"\n",
              "              title=\"Convert this dataframe to an interactive table.\"\n",
              "              style=\"display:none;\">\n",
              "        \n",
              "  <svg xmlns=\"http://www.w3.org/2000/svg\" height=\"24px\"viewBox=\"0 0 24 24\"\n",
              "       width=\"24px\">\n",
              "    <path d=\"M0 0h24v24H0V0z\" fill=\"none\"/>\n",
              "    <path d=\"M18.56 5.44l.94 2.06.94-2.06 2.06-.94-2.06-.94-.94-2.06-.94 2.06-2.06.94zm-11 1L8.5 8.5l.94-2.06 2.06-.94-2.06-.94L8.5 2.5l-.94 2.06-2.06.94zm10 10l.94 2.06.94-2.06 2.06-.94-2.06-.94-.94-2.06-.94 2.06-2.06.94z\"/><path d=\"M17.41 7.96l-1.37-1.37c-.4-.4-.92-.59-1.43-.59-.52 0-1.04.2-1.43.59L10.3 9.45l-7.72 7.72c-.78.78-.78 2.05 0 2.83L4 21.41c.39.39.9.59 1.41.59.51 0 1.02-.2 1.41-.59l7.78-7.78 2.81-2.81c.8-.78.8-2.07 0-2.86zM5.41 20L4 18.59l7.72-7.72 1.47 1.35L5.41 20z\"/>\n",
              "  </svg>\n",
              "      </button>\n",
              "      \n",
              "  <style>\n",
              "    .colab-df-container {\n",
              "      display:flex;\n",
              "      flex-wrap:wrap;\n",
              "      gap: 12px;\n",
              "    }\n",
              "\n",
              "    .colab-df-convert {\n",
              "      background-color: #E8F0FE;\n",
              "      border: none;\n",
              "      border-radius: 50%;\n",
              "      cursor: pointer;\n",
              "      display: none;\n",
              "      fill: #1967D2;\n",
              "      height: 32px;\n",
              "      padding: 0 0 0 0;\n",
              "      width: 32px;\n",
              "    }\n",
              "\n",
              "    .colab-df-convert:hover {\n",
              "      background-color: #E2EBFA;\n",
              "      box-shadow: 0px 1px 2px rgba(60, 64, 67, 0.3), 0px 1px 3px 1px rgba(60, 64, 67, 0.15);\n",
              "      fill: #174EA6;\n",
              "    }\n",
              "\n",
              "    [theme=dark] .colab-df-convert {\n",
              "      background-color: #3B4455;\n",
              "      fill: #D2E3FC;\n",
              "    }\n",
              "\n",
              "    [theme=dark] .colab-df-convert:hover {\n",
              "      background-color: #434B5C;\n",
              "      box-shadow: 0px 1px 3px 1px rgba(0, 0, 0, 0.15);\n",
              "      filter: drop-shadow(0px 1px 2px rgba(0, 0, 0, 0.3));\n",
              "      fill: #FFFFFF;\n",
              "    }\n",
              "  </style>\n",
              "\n",
              "      <script>\n",
              "        const buttonEl =\n",
              "          document.querySelector('#df-75b40a3f-d8df-4332-bf72-f92ea7ad29c3 button.colab-df-convert');\n",
              "        buttonEl.style.display =\n",
              "          google.colab.kernel.accessAllowed ? 'block' : 'none';\n",
              "\n",
              "        async function convertToInteractive(key) {\n",
              "          const element = document.querySelector('#df-75b40a3f-d8df-4332-bf72-f92ea7ad29c3');\n",
              "          const dataTable =\n",
              "            await google.colab.kernel.invokeFunction('convertToInteractive',\n",
              "                                                     [key], {});\n",
              "          if (!dataTable) return;\n",
              "\n",
              "          const docLinkHtml = 'Like what you see? Visit the ' +\n",
              "            '<a target=\"_blank\" href=https://colab.research.google.com/notebooks/data_table.ipynb>data table notebook</a>'\n",
              "            + ' to learn more about interactive tables.';\n",
              "          element.innerHTML = '';\n",
              "          dataTable['output_type'] = 'display_data';\n",
              "          await google.colab.output.renderOutput(dataTable, element);\n",
              "          const docLink = document.createElement('div');\n",
              "          docLink.innerHTML = docLinkHtml;\n",
              "          element.appendChild(docLink);\n",
              "        }\n",
              "      </script>\n",
              "    </div>\n",
              "  </div>\n",
              "  "
            ]
          },
          "metadata": {},
          "execution_count": 11
        }
      ],
      "source": [
        "import pandas as pd\n",
        "df=pd.DataFrame({'product':product_name,\"price\":product_price,\"rating\":product_rating})\n",
        "df"
      ]
    },
    {
      "cell_type": "code",
      "source": [
        "df.to_csv('AmazonProject3.csv')"
      ],
      "metadata": {
        "id": "ZiDDGFXec6rz"
      },
      "id": "ZiDDGFXec6rz",
      "execution_count": null,
      "outputs": []
    }
  ],
  "metadata": {
    "kernelspec": {
      "display_name": "Python 3",
      "language": "python",
      "name": "python3"
    },
    "language_info": {
      "codemirror_mode": {
        "name": "ipython",
        "version": 3
      },
      "file_extension": ".py",
      "mimetype": "text/x-python",
      "name": "python",
      "nbconvert_exporter": "python",
      "pygments_lexer": "ipython3",
      "version": "3.8.8"
    },
    "colab": {
      "provenance": [],
      "collapsed_sections": []
    }
  },
  "nbformat": 4,
  "nbformat_minor": 5
}